{
 "cells": [
  {
   "cell_type": "code",
   "execution_count": 1,
   "id": "dietary-funds",
   "metadata": {},
   "outputs": [],
   "source": [
    "%reload_ext autoreload\n",
    "%autoreload 2\n",
    "%matplotlib inline\n",
    "\n",
    "import json\n",
    "import pycountry\n",
    "import pandas as pd\n",
    "    \n",
    "JSON_PATH = \"/Users/seyoung/code/geo-quest-mania/src/lib/countries-110m.json\"\n",
    "COUNTRY_CONTINENT_MAP_PATH = \"/Users/seyoung/Downloads/fujitsu_country_continent_code.csv\"\n",
    "df = pd.read_csv(COUNTRY_CONTINENT_MAP_PATH, dtype=str, \n",
    "                 keep_default_na=False,   # don't treat \"NA\", \"NaN\", etc. as NaN\n",
    "                 na_filter=False          # disable NA detection completely\n",
    "                )"
   ]
  },
  {
   "cell_type": "markdown",
   "id": "7017dc0a-ea31-4a65-a274-275461c7fb1f",
   "metadata": {},
   "source": [
    "## About World Atlas TopoJSON\n",
    "- Source: https://github.com/topojson/world-atlas\n",
    "- Visualization: https://observablehq.com/@d3/world-map\n",
    "- world.objects.countries\n",
    "- country.id - the three-digit ISO 3166-1 numeric country code, such as \"528\"\n",
    "- country.properties.name - the country name, such as \"Netherlands\"\n",
    "- world.objects.land"
   ]
  },
  {
   "cell_type": "code",
   "execution_count": 2,
   "id": "053c25e2-c3e3-4987-b29e-1250e1913db2",
   "metadata": {},
   "outputs": [
    {
     "data": {
      "text/plain": [
       "Country(alpha_2='NL', alpha_3='NLD', flag='🇳🇱', name='Netherlands', numeric='528', official_name='Kingdom of the Netherlands')"
      ]
     },
     "execution_count": 2,
     "metadata": {},
     "output_type": "execute_result"
    }
   ],
   "source": [
    "pycountry.countries.get(numeric=\"528\")"
   ]
  },
  {
   "cell_type": "code",
   "execution_count": 3,
   "id": "73472892-67b9-4b69-b9be-b58acb65673b",
   "metadata": {},
   "outputs": [
    {
     "data": {
      "text/plain": [
       "'Kingdom of the Netherlands'"
      ]
     },
     "execution_count": 3,
     "metadata": {},
     "output_type": "execute_result"
    }
   ],
   "source": [
    "pycountry.countries.get(numeric=\"528\").official_name"
   ]
  },
  {
   "cell_type": "code",
   "execution_count": 2,
   "id": "1851965d-ab95-40ee-a5d0-655aefd5f0c8",
   "metadata": {},
   "outputs": [
    {
     "name": "stdout",
     "output_type": "stream",
     "text": [
      "FI\n",
      "None\n",
      "KR\n",
      "KP\n",
      "🇳🇱\n"
     ]
    }
   ],
   "source": [
    "import pycountry\n",
    "\n",
    "def continent_code_by_country_code(country_code: str, df) -> str:\n",
    "    return df[df[\"country_code\"] == country_code].iloc[0].continent_code\n",
    "    # return pc.country_alpha2_to_continent_code(country_code)\n",
    "\n",
    "def country_code_by_name(name: str) -> str:\n",
    "    \"\"\"\n",
    "    Return the ISO 3166-1 alpha-2 country code for a given country name.\n",
    "    \"\"\"\n",
    "    try:\n",
    "        # lookup() handles exact names, common names, and many variants\n",
    "        country = pycountry.countries.lookup(name)\n",
    "        return country.alpha_2\n",
    "    except LookupError:\n",
    "        return None\n",
    "\n",
    "def country_flag_by_numeric(numeric: int) -> str:\n",
    "    try:\n",
    "        # lookup() handles exact names, common names, and many variants\n",
    "        country = pycountry.countries.get(numeric=str(numeric))\n",
    "        return country.flag\n",
    "    except LookupError:\n",
    "        return None\n",
    "    \n",
    "\n",
    "def country_code_by_numeric(numeric: int) -> str:\n",
    "    \"\"\"\n",
    "    Return the ISO 3166-1 alpha-2 country code for a given country numeric code.\n",
    "    \"\"\"\n",
    "    try:\n",
    "        # lookup() handles exact names, common names, and many variants\n",
    "        country = pycountry.countries.get(numeric=str(numeric))\n",
    "        return country.alpha_2\n",
    "    except LookupError:\n",
    "        return None\n",
    "\n",
    "def country_code(query) -> str:\n",
    "    if isinstance(query, str):\n",
    "        return country_code_by_name(query)\n",
    "    elif isinstance(query, int):\n",
    "        return country_code_by_numeric(query)\n",
    "    else:\n",
    "        raise TypeError(\n",
    "            f\"query must be of type str or int, not {type(query).__name__}\"\n",
    "        )\n",
    "\n",
    "def country_official_by_numeric(numeric: str) -> str:\n",
    "    \"\"\"\n",
    "    Return the ISO 3166-1 alpha-2 country code for a given country name.\n",
    "    \"\"\"\n",
    "    try:\n",
    "        # lookup() handles exact names, common names, and many variants\n",
    "        country = pycountry.countries.get(numeric=str(numeric))\n",
    "        return country.official_name\n",
    "    except LookupError:\n",
    "        return None\n",
    "\n",
    "\n",
    "# Examples\n",
    "print(country_code(\"Finland\"))        # → 'FI'\n",
    "print(country_code(\"Korea\"))          # → 'KR'  (Republic of Korea)\n",
    "print(country_code(\"South Korea\"))    # → 'KR'\n",
    "print(country_code(\"North Korea\"))    # → 'KP'\n",
    "print(country_flag_by_numeric(\"528\"))"
   ]
  },
  {
   "cell_type": "code",
   "execution_count": 3,
   "id": "c4d03c29-28c5-45f9-86bf-b49d09604c40",
   "metadata": {},
   "outputs": [
    {
     "name": "stdout",
     "output_type": "stream",
     "text": [
      "AQ\n"
     ]
    }
   ],
   "source": [
    "print(continent_code_by_country_code(country_code(\"Antarctica\"), df))"
   ]
  },
  {
   "cell_type": "code",
   "execution_count": 4,
   "id": "5fb42c76-5690-4852-a044-4dd005d381f3",
   "metadata": {},
   "outputs": [
    {
     "data": {
      "text/plain": [
       "'NA'"
      ]
     },
     "execution_count": 4,
     "metadata": {},
     "output_type": "execute_result"
    }
   ],
   "source": [
    "country_code(\"Namibia\")"
   ]
  },
  {
   "cell_type": "markdown",
   "id": "f09d4b0d-c5a3-4aaf-b5fb-a4178d869efb",
   "metadata": {},
   "source": [
    "## Load TopoJSON"
   ]
  },
  {
   "cell_type": "code",
   "execution_count": 6,
   "id": "ca3f1051-b8f1-47e5-89ce-530cc51309a8",
   "metadata": {},
   "outputs": [],
   "source": [
    "with open(JSON_PATH) as f:\n",
    "    topo = json.load(f)\n",
    "\n",
    "countries = topo['objects']['countries']"
   ]
  },
  {
   "cell_type": "code",
   "execution_count": 4,
   "id": "2e927a0e-580a-40a2-88c5-30c96e8e6386",
   "metadata": {},
   "outputs": [
    {
     "data": {
      "text/plain": [
       "dict_keys(['type', 'objects', 'arcs', 'bbox', 'transform'])"
      ]
     },
     "execution_count": 4,
     "metadata": {},
     "output_type": "execute_result"
    }
   ],
   "source": [
    "topo.keys()"
   ]
  },
  {
   "cell_type": "code",
   "execution_count": 6,
   "id": "d7b6f8b8-e8f4-4582-b2c1-0764115663ca",
   "metadata": {},
   "outputs": [
    {
     "data": {
      "text/plain": [
       "dict_keys(['countries', 'land'])"
      ]
     },
     "execution_count": 6,
     "metadata": {},
     "output_type": "execute_result"
    }
   ],
   "source": [
    "topo['objects'].keys()"
   ]
  },
  {
   "cell_type": "code",
   "execution_count": 10,
   "id": "7c6202e2-77ee-44bb-b2fa-fa18a2faa75d",
   "metadata": {},
   "outputs": [
    {
     "data": {
      "text/plain": [
       "dict_keys(['type', 'geometries'])"
      ]
     },
     "execution_count": 10,
     "metadata": {},
     "output_type": "execute_result"
    }
   ],
   "source": [
    "topo['objects']['countries'].keys()"
   ]
  },
  {
   "cell_type": "code",
   "execution_count": 10,
   "id": "937bd861-b047-4a78-acac-59f8ae3e0dc9",
   "metadata": {},
   "outputs": [
    {
     "data": {
      "text/plain": [
       "dict_keys(['type', 'geometries'])"
      ]
     },
     "execution_count": 10,
     "metadata": {},
     "output_type": "execute_result"
    }
   ],
   "source": [
    "countries.keys()"
   ]
  },
  {
   "cell_type": "code",
   "execution_count": 12,
   "id": "bce7a6f4-0218-439d-8639-00a117c410a0",
   "metadata": {},
   "outputs": [
    {
     "data": {
      "text/plain": [
       "177"
      ]
     },
     "execution_count": 12,
     "metadata": {},
     "output_type": "execute_result"
    }
   ],
   "source": [
    "len(countries['geometries'])"
   ]
  },
  {
   "cell_type": "code",
   "execution_count": 14,
   "id": "06764974-0056-4bae-9281-1f60c31b0491",
   "metadata": {},
   "outputs": [
    {
     "data": {
      "text/plain": [
       "175"
      ]
     },
     "execution_count": 14,
     "metadata": {},
     "output_type": "execute_result"
    }
   ],
   "source": [
    "len(topo_worldpopulationreview['features'])"
   ]
  },
  {
   "cell_type": "code",
   "execution_count": 31,
   "id": "d4b2819d-9fe5-4924-9ede-9c0e630e9826",
   "metadata": {},
   "outputs": [
    {
     "data": {
      "text/plain": [
       "{'type': 'MultiPolygon',\n",
       " 'arcs': [[[0]], [[1]]],\n",
       " 'id': '242',\n",
       " 'properties': {'name': 'Fiji'}}"
      ]
     },
     "execution_count": 31,
     "metadata": {},
     "output_type": "execute_result"
    }
   ],
   "source": [
    "countries[\"geometries\"][0]"
   ]
  },
  {
   "cell_type": "markdown",
   "id": "961d66f1-6d67-4c33-89a7-26b3b93824d3",
   "metadata": {},
   "source": [
    "## Add data to JSON"
   ]
  },
  {
   "cell_type": "code",
   "execution_count": 7,
   "id": "b6b46195-ced6-44ba-acb1-4ab51a8e64cf",
   "metadata": {},
   "outputs": [
    {
     "name": "stdout",
     "output_type": "stream",
     "text": [
      "'[1] 🇦🇫 id: 'AF' Afghanistan': AS\n",
      "'[2] 🇦🇱 id: 'AL' Albania': EU\n",
      "'[3] 🇩🇿 id: 'DZ' Algeria': AF\n",
      "'[4] 🇦🇴 id: 'AO' Angola': AF\n",
      "'[5] 🇦🇶 id: 'AQ' Antarctica': AQ\n",
      "'[6] 🇦🇷 id: 'AR' Argentina': SA\n",
      "'[7] 🇦🇲 id: 'AM' Armenia': AS\n",
      "'[8] 🇦🇺 id: 'AU' Australia': OC\n",
      "'[9] 🇦🇹 id: 'AT' Austria': EU\n",
      "'[10] 🇦🇿 id: 'AZ' Azerbaijan': AS\n",
      "'[11] 🇧🇸 id: 'BS' Bahamas': NA\n",
      "'[12] 🇧🇩 id: 'BD' Bangladesh': AS\n",
      "'[13] 🇧🇾 id: 'BY' Belarus': EU\n",
      "'[14] 🇧🇪 id: 'BE' Belgium': EU\n",
      "'[15] 🇧🇿 id: 'BZ' Belize': NA\n",
      "'[16] 🇧🇯 id: 'BJ' Benin': AF\n",
      "'[17] 🇧🇹 id: 'BT' Bhutan': AS\n",
      "'[18] 🇧🇴 id: 'BO' Bolivia': SA\n",
      "'[19] 🇧🇦 id: 'BA' Bosnia and Herz.': EU\n",
      "'[20] 🇧🇼 id: 'BW' Botswana': AF\n",
      "'[21] 🇧🇷 id: 'BR' Brazil': SA\n",
      "'[22] 🇧🇳 id: 'BN' Brunei': AS\n",
      "'[23] 🇧🇬 id: 'BG' Bulgaria': EU\n",
      "'[24] 🇧🇫 id: 'BF' Burkina Faso': AF\n",
      "'[25] 🇧🇮 id: 'BI' Burundi': AF\n",
      "'[26] 🇰🇭 id: 'KH' Cambodia': AS\n",
      "'[27] 🇨🇲 id: 'CM' Cameroon': AF\n",
      "'[28] 🇨🇦 id: 'CA' Canada': NA\n",
      "'[29] 🇨🇫 id: 'CF' Central African Rep.': AF\n",
      "'[30] 🇹🇩 id: 'TD' Chad': AF\n",
      "'[31] 🇨🇱 id: 'CL' Chile': SA\n",
      "'[32] 🇨🇳 id: 'CN' China': AS\n",
      "'[33] 🇨🇴 id: 'CO' Colombia': SA\n",
      "'[34] 🇨🇬 id: 'CG' Congo': AF\n",
      "'[35] 🇨🇷 id: 'CR' Costa Rica': NA\n",
      "'[36] 🇭🇷 id: 'HR' Croatia': EU\n",
      "'[37] 🇨🇺 id: 'CU' Cuba': NA\n",
      "'[38] 🇨🇾 id: 'CY' Cyprus': EU\n",
      "'[39] 🇨🇿 id: 'CZ' Czechia': EU\n",
      "'[40] 🇨🇮 id: 'CI' Côte d'Ivoire': AF\n",
      "'[41] 🇨🇩 id: 'CD' Dem. Rep. Congo': AF\n",
      "'[42] 🇩🇰 id: 'DK' Denmark': EU\n",
      "'[43] 🇩🇯 id: 'DJ' Djibouti': AF\n",
      "'[44] 🇩🇴 id: 'DO' Dominican Rep.': NA\n",
      "'[45] 🇪🇨 id: 'EC' Ecuador': SA\n",
      "'[46] 🇪🇬 id: 'EG' Egypt': AF\n",
      "'[47] 🇸🇻 id: 'SV' El Salvador': NA\n",
      "'[48] 🇬🇶 id: 'GQ' Eq. Guinea': AF\n",
      "'[49] 🇪🇷 id: 'ER' Eritrea': AF\n",
      "'[50] 🇪🇪 id: 'EE' Estonia': EU\n",
      "'[51] 🇪🇹 id: 'ET' Ethiopia': AF\n",
      "'[52] 🇫🇰 id: 'FK' Falkland Is.': SA\n",
      "'[53] 🇫🇯 id: 'FJ' Fiji': OC\n",
      "'[54] 🇫🇮 id: 'FI' Finland': EU\n",
      "'[55] 🇹🇫 id: 'TF' Fr. S. Antarctic Lands': OT\n",
      "'[56] 🇫🇷 id: 'FR' France': EU\n",
      "'[57] 🇬🇦 id: 'GA' Gabon': AF\n",
      "'[58] 🇬🇲 id: 'GM' Gambia': AF\n",
      "'[59] 🇬🇪 id: 'GE' Georgia': EU\n",
      "'[60] 🇩🇪 id: 'DE' Germany': EU\n",
      "'[61] 🇬🇭 id: 'GH' Ghana': AF\n",
      "'[62] 🇬🇷 id: 'GR' Greece': EU\n",
      "'[63] 🇬🇱 id: 'GL' Greenland': NA\n",
      "'[64] 🇬🇹 id: 'GT' Guatemala': NA\n",
      "'[65] 🇬🇳 id: 'GN' Guinea': AF\n",
      "'[66] 🇬🇼 id: 'GW' Guinea-Bissau': AF\n",
      "'[67] 🇬🇾 id: 'GY' Guyana': SA\n",
      "'[68] 🇭🇹 id: 'HT' Haiti': NA\n",
      "'[69] 🇭🇳 id: 'HN' Honduras': NA\n",
      "'[70] 🇭🇺 id: 'HU' Hungary': EU\n",
      "'[71] 🇮🇸 id: 'IS' Iceland': EU\n",
      "'[72] 🇮🇳 id: 'IN' India': AS\n",
      "'[73] 🇮🇩 id: 'ID' Indonesia': AS\n",
      "'[74] 🇮🇷 id: 'IR' Iran': AS\n",
      "'[75] 🇮🇶 id: 'IQ' Iraq': AS\n",
      "'[76] 🇮🇪 id: 'IE' Ireland': EU\n",
      "'[77] 🇮🇱 id: 'IL' Israel': AS\n",
      "'[78] 🇮🇹 id: 'IT' Italy': EU\n",
      "'[79] 🇯🇲 id: 'JM' Jamaica': NA\n",
      "'[80] 🇯🇵 id: 'JP' Japan': AS\n",
      "'[81] 🇯🇴 id: 'JO' Jordan': AS\n",
      "'[82] 🇰🇿 id: 'KZ' Kazakhstan': AS\n",
      "'[83] 🇰🇪 id: 'KE' Kenya': AF\n",
      "Kosovo\n",
      "'[85] 🇰🇼 id: 'KW' Kuwait': AS\n",
      "'[86] 🇰🇬 id: 'KG' Kyrgyzstan': AS\n",
      "'[87] 🇱🇦 id: 'LA' Laos': AS\n",
      "'[88] 🇱🇻 id: 'LV' Latvia': EU\n",
      "'[89] 🇱🇧 id: 'LB' Lebanon': AS\n",
      "'[90] 🇱🇸 id: 'LS' Lesotho': AF\n",
      "'[91] 🇱🇷 id: 'LR' Liberia': AF\n",
      "'[92] 🇱🇾 id: 'LY' Libya': AF\n",
      "'[93] 🇱🇹 id: 'LT' Lithuania': EU\n",
      "'[94] 🇱🇺 id: 'LU' Luxembourg': EU\n",
      "'[95] 🇲🇰 id: 'MK' Macedonia': EU\n",
      "'[96] 🇲🇬 id: 'MG' Madagascar': AF\n",
      "'[97] 🇲🇼 id: 'MW' Malawi': AF\n",
      "'[98] 🇲🇾 id: 'MY' Malaysia': AS\n",
      "'[99] 🇲🇱 id: 'ML' Mali': AF\n",
      "'[100] 🇲🇷 id: 'MR' Mauritania': AF\n",
      "'[101] 🇲🇽 id: 'MX' Mexico': NA\n",
      "'[102] 🇲🇩 id: 'MD' Moldova': EU\n",
      "'[103] 🇲🇳 id: 'MN' Mongolia': AS\n",
      "'[104] 🇲🇪 id: 'ME' Montenegro': EU\n",
      "'[105] 🇲🇦 id: 'MA' Morocco': AF\n",
      "'[106] 🇲🇿 id: 'MZ' Mozambique': AF\n",
      "'[107] 🇲🇲 id: 'MM' Myanmar': AS\n",
      "N. Cyprus\n",
      "'[109] 🇳🇦 id: 'NA' Namibia': AF\n",
      "'[110] 🇳🇵 id: 'NP' Nepal': AS\n",
      "'[111] 🇳🇱 id: 'NL' Netherlands': EU\n",
      "'[112] 🇳🇨 id: 'NC' New Caledonia': OC\n",
      "'[113] 🇳🇿 id: 'NZ' New Zealand': OC\n",
      "'[114] 🇳🇮 id: 'NI' Nicaragua': NA\n",
      "'[115] 🇳🇪 id: 'NE' Niger': AF\n",
      "'[116] 🇳🇬 id: 'NG' Nigeria': AF\n",
      "'[117] 🇰🇵 id: 'KP' North Korea': AS\n",
      "'[118] 🇳🇴 id: 'NO' Norway': EU\n",
      "'[119] 🇴🇲 id: 'OM' Oman': AS\n",
      "'[120] 🇵🇰 id: 'PK' Pakistan': AS\n",
      "'[121] 🇵🇸 id: 'PS' Palestine': AS\n",
      "'[122] 🇵🇦 id: 'PA' Panama': NA\n",
      "'[123] 🇵🇬 id: 'PG' Papua New Guinea': OC\n",
      "'[124] 🇵🇾 id: 'PY' Paraguay': SA\n",
      "'[125] 🇵🇪 id: 'PE' Peru': SA\n",
      "'[126] 🇵🇭 id: 'PH' Philippines': AS\n",
      "'[127] 🇵🇱 id: 'PL' Poland': EU\n",
      "'[128] 🇵🇹 id: 'PT' Portugal': EU\n",
      "'[129] 🇵🇷 id: 'PR' Puerto Rico': NA\n",
      "'[130] 🇶🇦 id: 'QA' Qatar': AS\n",
      "'[131] 🇷🇴 id: 'RO' Romania': EU\n",
      "'[132] 🇷🇺 id: 'RU' Russia': EU\n",
      "'[133] 🇷🇼 id: 'RW' Rwanda': AF\n",
      "'[134] 🇸🇸 id: 'SS' S. Sudan': AF\n",
      "'[135] 🇸🇦 id: 'SA' Saudi Arabia': AS\n",
      "'[136] 🇸🇳 id: 'SN' Senegal': AF\n",
      "'[137] 🇷🇸 id: 'RS' Serbia': EU\n",
      "'[138] 🇸🇱 id: 'SL' Sierra Leone': AF\n",
      "'[139] 🇸🇰 id: 'SK' Slovakia': EU\n",
      "'[140] 🇸🇮 id: 'SI' Slovenia': EU\n",
      "'[141] 🇸🇧 id: 'SB' Solomon Is.': OC\n",
      "'[142] 🇸🇴 id: 'SO' Somalia': AF\n",
      "Somaliland\n",
      "'[144] 🇿🇦 id: 'ZA' South Africa': AF\n",
      "'[145] 🇰🇷 id: 'KR' South Korea': AS\n",
      "'[146] 🇪🇸 id: 'ES' Spain': EU\n",
      "'[147] 🇱🇰 id: 'LK' Sri Lanka': AS\n",
      "'[148] 🇸🇩 id: 'SD' Sudan': AF\n",
      "'[149] 🇸🇷 id: 'SR' Suriname': SA\n",
      "'[150] 🇸🇪 id: 'SE' Sweden': EU\n",
      "'[151] 🇨🇭 id: 'CH' Switzerland': EU\n",
      "'[152] 🇸🇾 id: 'SY' Syria': AS\n",
      "'[153] 🇹🇼 id: 'TW' Taiwan': AS\n",
      "'[154] 🇹🇯 id: 'TJ' Tajikistan': AS\n",
      "'[155] 🇹🇿 id: 'TZ' Tanzania': AF\n",
      "'[156] 🇹🇭 id: 'TH' Thailand': AS\n",
      "'[157] 🇹🇱 id: 'TL' Timor-Leste': AS\n",
      "'[158] 🇹🇬 id: 'TG' Togo': AF\n",
      "'[159] 🇹🇹 id: 'TT' Trinidad and Tobago': NA\n",
      "'[160] 🇹🇳 id: 'TN' Tunisia': AF\n",
      "'[161] 🇹🇷 id: 'TR' Turkey': EU\n",
      "'[162] 🇹🇲 id: 'TM' Turkmenistan': AS\n",
      "'[163] 🇺🇬 id: 'UG' Uganda': AF\n",
      "'[164] 🇺🇦 id: 'UA' Ukraine': EU\n",
      "'[165] 🇦🇪 id: 'AE' United Arab Emirates': AS\n",
      "'[166] 🇬🇧 id: 'GB' United Kingdom': EU\n",
      "'[167] 🇺🇸 id: 'US' United States of America': NA\n",
      "'[168] 🇺🇾 id: 'UY' Uruguay': SA\n",
      "'[169] 🇺🇿 id: 'UZ' Uzbekistan': AS\n",
      "'[170] 🇻🇺 id: 'VU' Vanuatu': OC\n",
      "'[171] 🇻🇪 id: 'VE' Venezuela': SA\n",
      "'[172] 🇻🇳 id: 'VN' Vietnam': AS\n",
      "'[173] 🇪🇭 id: 'EH' W. Sahara': AF\n",
      "'[174] 🇾🇪 id: 'YE' Yemen': AS\n",
      "'[175] 🇿🇲 id: 'ZM' Zambia': AF\n",
      "'[176] 🇿🇼 id: 'ZW' Zimbabwe': AF\n",
      "'[177] 🇸🇿 id: 'SZ' eSwatini': AF\n"
     ]
    }
   ],
   "source": [
    "# Sort countries alphabetically\n",
    "countries['geometries'].sort(key=lambda g: g[\"properties\"][\"name\"])\n",
    "\n",
    "for i, c in enumerate(countries['geometries']):\n",
    "    name = c['properties']['name']\n",
    "    try:\n",
    "        c_numeric = c['id']\n",
    "    except KeyError:\n",
    "        print(name)\n",
    "        pass\n",
    "    else:\n",
    "        code = country_code(c_numeric)\n",
    "        c['properties']['code'] = code\n",
    "        flag = country_flag_by_numeric(c_numeric)\n",
    "        c['properties']['flag'] = flag\n",
    "        continent_code = continent_code_by_country_code(code, df)\n",
    "        c['properties']['continent_code'] = continent_code\n",
    "        \n",
    "        print(f\"'[{i+1}] {flag} id: '{country_code(c_numeric)}' {name}': {continent_code}\")\n",
    "         # flag='🇳🇱', name='Netherlands', numeric='528', official_name='Kingdom of the Netherlands')\n",
    "    "
   ]
  },
  {
   "cell_type": "code",
   "execution_count": 16,
   "id": "a5dd23e1-c0b2-4013-9c7a-58514079206d",
   "metadata": {
    "collapsed": true,
    "jupyter": {
     "outputs_hidden": true
    }
   },
   "outputs": [
    {
     "name": "stdout",
     "output_type": "stream",
     "text": [
      "Afghanistan\n",
      "Albania\n",
      "Algeria\n",
      "Angola\n",
      "Antarctica\n",
      "Argentina\n",
      "Armenia\n",
      "Australia\n",
      "Austria\n",
      "Azerbaijan\n",
      "Bahamas\n",
      "Bangladesh\n",
      "Belarus\n",
      "Belgium\n",
      "Belize\n",
      "Benin\n",
      "Bhutan\n",
      "Bolivia\n",
      "Bosnia and Herz.\n",
      "Botswana\n",
      "Brazil\n",
      "Brunei\n",
      "Bulgaria\n",
      "Burkina Faso\n",
      "Burundi\n",
      "Cambodia\n",
      "Cameroon\n",
      "Canada\n",
      "Central African Rep.\n",
      "Chad\n",
      "Chile\n",
      "China\n",
      "Colombia\n",
      "Congo\n",
      "Costa Rica\n",
      "Croatia\n",
      "Cuba\n",
      "Cyprus\n",
      "Czechia\n",
      "Côte d'Ivoire\n",
      "Dem. Rep. Congo\n",
      "Denmark\n",
      "Djibouti\n",
      "Dominican Rep.\n",
      "Ecuador\n",
      "Egypt\n",
      "El Salvador\n",
      "Eq. Guinea\n",
      "Eritrea\n",
      "Estonia\n",
      "Ethiopia\n",
      "Falkland Is.\n",
      "Fiji\n",
      "Finland\n",
      "Fr. S. Antarctic Lands\n",
      "France\n",
      "Gabon\n",
      "Gambia\n",
      "Georgia\n",
      "Germany\n",
      "Ghana\n",
      "Greece\n",
      "Greenland\n",
      "Guatemala\n",
      "Guinea\n",
      "Guinea-Bissau\n",
      "Guyana\n",
      "Haiti\n",
      "Honduras\n",
      "Hungary\n",
      "Iceland\n",
      "India\n",
      "Indonesia\n",
      "Iran\n",
      "Iraq\n",
      "Ireland\n",
      "Israel\n",
      "Italy\n",
      "Jamaica\n",
      "Japan\n",
      "Jordan\n",
      "Kazakhstan\n",
      "Kenya\n",
      "Kosovo\n",
      "Kuwait\n",
      "Kyrgyzstan\n",
      "Laos\n",
      "Latvia\n",
      "Lebanon\n",
      "Lesotho\n",
      "Liberia\n",
      "Libya\n",
      "Lithuania\n",
      "Luxembourg\n",
      "Macedonia\n",
      "Madagascar\n",
      "Malawi\n",
      "Malaysia\n",
      "Mali\n",
      "Mauritania\n",
      "Mexico\n",
      "Moldova\n",
      "Mongolia\n",
      "Montenegro\n",
      "Morocco\n",
      "Mozambique\n",
      "Myanmar\n",
      "N. Cyprus\n",
      "Namibia\n",
      "Nepal\n",
      "Netherlands\n",
      "New Caledonia\n",
      "New Zealand\n",
      "Nicaragua\n",
      "Niger\n",
      "Nigeria\n",
      "North Korea\n",
      "Norway\n",
      "Oman\n",
      "Pakistan\n",
      "Palestine\n",
      "Panama\n",
      "Papua New Guinea\n",
      "Paraguay\n",
      "Peru\n",
      "Philippines\n",
      "Poland\n",
      "Portugal\n",
      "Puerto Rico\n",
      "Qatar\n",
      "Romania\n",
      "Russia\n",
      "Rwanda\n",
      "S. Sudan\n",
      "Saudi Arabia\n",
      "Senegal\n",
      "Serbia\n",
      "Sierra Leone\n",
      "Slovakia\n",
      "Slovenia\n",
      "Solomon Is.\n",
      "Somalia\n",
      "Somaliland\n",
      "South Africa\n",
      "South Korea\n",
      "Spain\n",
      "Sri Lanka\n",
      "Sudan\n",
      "Suriname\n",
      "Sweden\n",
      "Switzerland\n",
      "Syria\n",
      "Taiwan\n",
      "Tajikistan\n",
      "Tanzania\n",
      "Thailand\n",
      "Timor-Leste\n",
      "Togo\n",
      "Trinidad and Tobago\n",
      "Tunisia\n",
      "Turkey\n",
      "Turkmenistan\n",
      "Uganda\n",
      "Ukraine\n",
      "United Arab Emirates\n",
      "United Kingdom\n",
      "United States of America\n",
      "Uruguay\n",
      "Uzbekistan\n",
      "Vanuatu\n",
      "Venezuela\n",
      "Vietnam\n",
      "W. Sahara\n",
      "Yemen\n",
      "Zambia\n",
      "Zimbabwe\n",
      "eSwatini\n"
     ]
    }
   ],
   "source": [
    "for i, c in enumerate(countries['geometries']):\n",
    "    print(c['properties']['name'])"
   ]
  },
  {
   "cell_type": "code",
   "execution_count": 17,
   "id": "ac87687d-853b-49cb-a919-24d594c7a742",
   "metadata": {},
   "outputs": [
    {
     "data": {
      "text/plain": [
       "{'type': 'Polygon',\n",
       " 'arcs': [[-69, 408, 409, -407, 410, 411]],\n",
       " 'id': '004',\n",
       " 'properties': {'name': 'Afghanistan', 'code': 'AF', 'flag': '🇦🇫'}}"
      ]
     },
     "execution_count": 17,
     "metadata": {},
     "output_type": "execute_result"
    }
   ],
   "source": [
    "topo['objects']['countries']['geometries'][0]"
   ]
  },
  {
   "cell_type": "markdown",
   "id": "0e5752bc-d024-47f8-916c-c2fd3bb2a33f",
   "metadata": {},
   "source": [
    "## Write JSON file"
   ]
  },
  {
   "cell_type": "code",
   "execution_count": 8,
   "id": "8bdf2244-b8b5-4831-8c18-b2bb1a362d7c",
   "metadata": {},
   "outputs": [],
   "source": [
    "with open(\"/Users/seyoung/code/geo-quest-mania/src/lib/countries-110m-with-country-code.json\", \"w\", encoding=\"utf-8\") as f:\n",
    "    # 3. Serialize `data` to JSON and write it into the file:\n",
    "    json.dump(topo, f, ensure_ascii=False, indent=4)"
   ]
  },
  {
   "cell_type": "code",
   "execution_count": 10,
   "id": "e3c0aeea-92c0-41a3-9b16-07de5dafb80d",
   "metadata": {
    "scrolled": true
   },
   "outputs": [
    {
     "data": {
      "text/plain": [
       "{'type': 'GeometryCollection',\n",
       " 'geometries': [{'type': 'MultiPolygon',\n",
       "   'arcs': [[[0]],\n",
       "    [[1]],\n",
       "    [[3,\n",
       "      320,\n",
       "      184,\n",
       "      255,\n",
       "      323,\n",
       "      104,\n",
       "      322,\n",
       "      311,\n",
       "      313,\n",
       "      315,\n",
       "      289,\n",
       "      284,\n",
       "      273,\n",
       "      290,\n",
       "      293,\n",
       "      297,\n",
       "      305,\n",
       "      307,\n",
       "      302,\n",
       "      304,\n",
       "      263,\n",
       "      336,\n",
       "      258,\n",
       "      272,\n",
       "      13,\n",
       "      573,\n",
       "      341,\n",
       "      338,\n",
       "      577,\n",
       "      575,\n",
       "      329,\n",
       "      332,\n",
       "      423,\n",
       "      487,\n",
       "      535,\n",
       "      153,\n",
       "      435,\n",
       "      164,\n",
       "      436,\n",
       "      461,\n",
       "      477,\n",
       "      489,\n",
       "      484,\n",
       "      490,\n",
       "      592,\n",
       "      497,\n",
       "      548,\n",
       "      525,\n",
       "      240,\n",
       "      507,\n",
       "      505,\n",
       "      506,\n",
       "      242,\n",
       "      501,\n",
       "      503,\n",
       "      474,\n",
       "      528,\n",
       "      476,\n",
       "      446,\n",
       "      142,\n",
       "      464,\n",
       "      466,\n",
       "      468,\n",
       "      158,\n",
       "      549,\n",
       "      430,\n",
       "      172,\n",
       "      161,\n",
       "      387,\n",
       "      391,\n",
       "      389,\n",
       "      522,\n",
       "      385,\n",
       "      371,\n",
       "      372,\n",
       "      543,\n",
       "      374,\n",
       "      380,\n",
       "      401,\n",
       "      394,\n",
       "      404,\n",
       "      422,\n",
       "      360,\n",
       "      354,\n",
       "      559,\n",
       "      352,\n",
       "      560,\n",
       "      347,\n",
       "      365,\n",
       "      349,\n",
       "      362,\n",
       "      557,\n",
       "      561,\n",
       "      346,\n",
       "      576,\n",
       "      124,\n",
       "      551,\n",
       "      581,\n",
       "      583,\n",
       "      115,\n",
       "      119],\n",
       "     [421, 416, 64, 150, 533]],\n",
       "    [[17,\n",
       "      48,\n",
       "      186,\n",
       "      229,\n",
       "      227,\n",
       "      223,\n",
       "      219,\n",
       "      216,\n",
       "      213,\n",
       "      209,\n",
       "      230,\n",
       "      232,\n",
       "      234,\n",
       "      236,\n",
       "      200,\n",
       "      191,\n",
       "      93,\n",
       "      100,\n",
       "      203,\n",
       "      246,\n",
       "      207,\n",
       "      211,\n",
       "      214,\n",
       "      217,\n",
       "      220,\n",
       "      224,\n",
       "      228,\n",
       "      189,\n",
       "      50,\n",
       "      15,\n",
       "      58]],\n",
       "    [[19]],\n",
       "    [[20]],\n",
       "    [[21]],\n",
       "    [[22]],\n",
       "    [[23]],\n",
       "    [[24]],\n",
       "    [[25]],\n",
       "    [[26]],\n",
       "    [[27]],\n",
       "    [[28]],\n",
       "    [[29]],\n",
       "    [[30]],\n",
       "    [[31]],\n",
       "    [[32]],\n",
       "    [[33]],\n",
       "    [[34]],\n",
       "    [[35]],\n",
       "    [[36]],\n",
       "    [[37]],\n",
       "    [[38]],\n",
       "    [[39]],\n",
       "    [[40]],\n",
       "    [[41]],\n",
       "    [[42]],\n",
       "    [[43]],\n",
       "    [[44]],\n",
       "    [[45]],\n",
       "    [[46]],\n",
       "    [[47]],\n",
       "    [[51]],\n",
       "    [[52]],\n",
       "    [[53]],\n",
       "    [[54]],\n",
       "    [[55]],\n",
       "    [[56]],\n",
       "    [[57]],\n",
       "    [[59]],\n",
       "    [[70, 75]],\n",
       "    [[72]],\n",
       "    [[73]],\n",
       "    [[74]],\n",
       "    [[77, 177]],\n",
       "    [[78]],\n",
       "    [[546, 79, 544, 547]],\n",
       "    [[81]],\n",
       "    [[82]],\n",
       "    [[83]],\n",
       "    [[84]],\n",
       "    [[85]],\n",
       "    [[86]],\n",
       "    [[87]],\n",
       "    [[88]],\n",
       "    [[89]],\n",
       "    [[90, 98]],\n",
       "    [[133, 134]],\n",
       "    [[135]],\n",
       "    [[136]],\n",
       "    [[137]],\n",
       "    [[138]],\n",
       "    [[139]],\n",
       "    [[140]],\n",
       "    [[144]],\n",
       "    [[145]],\n",
       "    [[162]],\n",
       "    [[165]],\n",
       "    [[166]],\n",
       "    [[167]],\n",
       "    [[168]],\n",
       "    [[169]],\n",
       "    [[173]],\n",
       "    [[174]],\n",
       "    [[175]],\n",
       "    [[176]],\n",
       "    [[245]],\n",
       "    [[247]],\n",
       "    [[248]],\n",
       "    [[249]],\n",
       "    [[334]],\n",
       "    [[366]],\n",
       "    [[367]],\n",
       "    [[482]],\n",
       "    [[508, 530]],\n",
       "    [[510]],\n",
       "    [[511]],\n",
       "    [[512]],\n",
       "    [[513]],\n",
       "    [[514]],\n",
       "    [[515]],\n",
       "    [[516]],\n",
       "    [[517]],\n",
       "    [[518]],\n",
       "    [[519]],\n",
       "    [[520]],\n",
       "    [[521]],\n",
       "    [[523]],\n",
       "    [[526]],\n",
       "    [[527]],\n",
       "    [[529]],\n",
       "    [[531]],\n",
       "    [[532]],\n",
       "    [[536]],\n",
       "    [[537]],\n",
       "    [[538]],\n",
       "    [[539]],\n",
       "    [[540]],\n",
       "    [[541]],\n",
       "    [[542]],\n",
       "    [[554]],\n",
       "    [[555]],\n",
       "    [[556]],\n",
       "    [[562]],\n",
       "    [[563]],\n",
       "    [[564]],\n",
       "    [[565]],\n",
       "    [[566]],\n",
       "    [[567]],\n",
       "    [[568]],\n",
       "    [[569]],\n",
       "    [[570, 572]],\n",
       "    [[594]]]}]}"
      ]
     },
     "execution_count": 10,
     "metadata": {},
     "output_type": "execute_result"
    }
   ],
   "source": [
    "topo['objects']['land']"
   ]
  },
  {
   "cell_type": "code",
   "execution_count": null,
   "id": "cb4fc32c-69ae-43ec-9de1-ea01f415c077",
   "metadata": {},
   "outputs": [],
   "source": []
  }
 ],
 "metadata": {
  "kernelspec": {
   "display_name": "Python 3 (ipykernel)",
   "language": "python",
   "name": "python3"
  },
  "language_info": {
   "codemirror_mode": {
    "name": "ipython",
    "version": 3
   },
   "file_extension": ".py",
   "mimetype": "text/x-python",
   "name": "python",
   "nbconvert_exporter": "python",
   "pygments_lexer": "ipython3",
   "version": "3.9.12"
  }
 },
 "nbformat": 4,
 "nbformat_minor": 5
}
